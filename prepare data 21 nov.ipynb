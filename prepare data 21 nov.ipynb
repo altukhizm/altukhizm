{
 "cells": [
  {
   "cell_type": "markdown",
   "metadata": {},
   "source": [
    "# Explor and prepare the data\n",
    "## Descriptive Analysis for Car Accidents in Washington D.C\n",
    "### Zaid Altukhi\n",
    "### DR. LIAO, PH.D.\n",
    "George Mason University\n",
    "| AIT 614: Big Data Essentials\n"
   ]
  },
  {
   "cell_type": "markdown",
   "metadata": {},
   "source": [
    "# Import libraries and packages"
   ]
  },
  {
   "cell_type": "code",
   "execution_count": 2,
   "metadata": {},
   "outputs": [],
   "source": [
    "import numpy as np\n",
    "import pandas as pd\n",
    "import altair as alt\n",
    "alt.data_transformers.enable('default', max_rows=None)\n",
    "\n",
    "from mpl_toolkits.mplot3d import Axes3D\n",
    "from sklearn.preprocessing import StandardScaler\n",
    "import matplotlib.pyplot as plt # plotting\n",
    "import seaborn as sns\n",
    "import matplotlib.pyplot as plt\n",
    "\n",
    "from sklearn import preprocessing\n",
    "from sklearn import metrics\n",
    "from sklearn.ensemble import RandomForestClassifier\n",
    "\n",
    "from sklearn.feature_selection import mutual_info_classif, SelectKBest\n",
    "from sklearn.model_selection import train_test_split, StratifiedKFold, GridSearchCV\n",
    "\n",
    "from warnings import filterwarnings\n",
    "filterwarnings('ignore')\n",
    "from scipy import stats\n"
   ]
  },
  {
   "cell_type": "code",
   "execution_count": 4,
   "metadata": {},
   "outputs": [],
   "source": [
    "df = pd.read_csv('/Volumes/LOVUN/George Mason Files/Fall 2021/AIT 614/project/data/oct29_datasset.csv')"
   ]
  },
  {
   "cell_type": "markdown",
   "metadata": {},
   "source": [
    "# Import the data"
   ]
  },
  {
   "cell_type": "code",
   "execution_count": 3,
   "metadata": {},
   "outputs": [],
   "source": [
    "fulldata = pd.read_csv('/Volumes/LOVUN/George Mason Files/Fall 2021/AIT 614/project/data/Crashes_in_DC.csv')"
   ]
  },
  {
   "cell_type": "markdown",
   "metadata": {},
   "source": [
    "# Clean and prepare The data"
   ]
  },
  {
   "cell_type": "markdown",
   "metadata": {},
   "source": [
    "## Drop unrelated columns"
   ]
  },
  {
   "cell_type": "code",
   "execution_count": 4,
   "metadata": {},
   "outputs": [],
   "source": [
    "fulldata=fulldata.drop(['TODATE',\n",
    "              'STREETSEGID',\n",
    "              'ROADWAYSEGID',\n",
    "              'WARD',\n",
    "              'MAR_SCORE',\n",
    "              'STREETSEGID',\n",
    "              'LASTUPDATEDATE',\n",
    "              'MPDGEOY',\n",
    "              'MPDGEOX',\n",
    "              'LOCATIONERROR',\n",
    "              'LASTUPDATEDATE',\n",
    "              'MPDLATITUDE',\n",
    "              'MPDLONGITUDE',\n",
    "              'MPDGEOX',\n",
    "              'MPDGEOY',\n",
    "              'MAR_ADDRESS'], axis=1)"
   ]
  },
  {
   "cell_type": "markdown",
   "metadata": {},
   "source": [
    "#### Drop empty columns"
   ]
  },
  {
   "cell_type": "code",
   "execution_count": 5,
   "metadata": {},
   "outputs": [],
   "source": [
    "fulldata=fulldata.drop(['BLOCKKEY',\n",
    "              'SUBBLOCKKEY'], axis=1)"
   ]
  },
  {
   "cell_type": "markdown",
   "metadata": {},
   "source": [
    "## Add columns"
   ]
  },
  {
   "cell_type": "markdown",
   "metadata": {},
   "source": [
    "### Aggregate columns"
   ]
  },
  {
   "cell_type": "code",
   "execution_count": 6,
   "metadata": {},
   "outputs": [],
   "source": [
    "fulldata['TOTAL_FATAL'] = fulldata.apply(lambda row: row.FATAL_DRIVER + row.FATAL_BICYCLIST + row.FATAL_PEDESTRIAN + row.FATALPASSENGER, axis=1)\n",
    "fulldata['TOTAL_MAJORINJURIES']= fulldata.apply(lambda row: row.MAJORINJURIES_BICYCLIST + row.MAJORINJURIES_DRIVER + row.MAJORINJURIES_PEDESTRIAN + row.MAJORINJURIESPASSENGER, axis=1)\n",
    "fulldata['TOTAL_MINORINJURIES']= fulldata.apply(lambda row: row.MINORINJURIES_BICYCLIST + row.MINORINJURIES_DRIVER + row.MINORINJURIES_PEDESTRIAN + row.MINORINJURIESPASSENGER , axis=1)\n",
    "fulldata['TOTAL_UNKNOWNINJURIES']= fulldata.apply(lambda row: row.UNKNOWNINJURIES_BICYCLIST + row.UNKNOWNINJURIES_DRIVER + row.UNKNOWNINJURIES_PEDESTRIAN + row.UNKNOWNINJURIESPASSENGER, axis=1)\n",
    "fulldata['TOTAL_ACCEIDENTELEMENTS']= fulldata.apply(lambda row: row.TOTAL_VEHICLES + row.TOTAL_BICYCLES + row.TOTAL_PEDESTRIANS + row.TOTAL_TAXIS + row.TOTAL_GOVERNMENT , axis=1)\n"
   ]
  },
  {
   "cell_type": "code",
   "execution_count": 8,
   "metadata": {},
   "outputs": [],
   "source": [
    "fulldata['FATAL'] = np.where(fulldata['TOTAL_FATAL']>= 1, 1, 0)"
   ]
  },
  {
   "cell_type": "code",
   "execution_count": 9,
   "metadata": {},
   "outputs": [],
   "source": [
    "fulldata['TOTAL_INJURIES']= fulldata.apply(lambda row: row.TOTAL_MAJORINJURIES + row.TOTAL_MINORINJURIES + row.TOTAL_UNKNOWNINJURIES , axis=1)\n"
   ]
  },
  {
   "cell_type": "code",
   "execution_count": 10,
   "metadata": {},
   "outputs": [],
   "source": [
    "fulldata['TOTAL_INJURIES_ELEMENTS']= fulldata.apply(lambda row: row.TOTAL_INJURIES + row.TOTAL_ACCEIDENTELEMENTS , axis=1)\n"
   ]
  },
  {
   "cell_type": "markdown",
   "metadata": {},
   "source": [
    "### convert columns datatypes"
   ]
  },
  {
   "cell_type": "markdown",
   "metadata": {},
   "source": [
    "#### convert date time"
   ]
  },
  {
   "cell_type": "code",
   "execution_count": 11,
   "metadata": {},
   "outputs": [],
   "source": [
    "fulldata['REPORTDATE']= pd.to_datetime(fulldata['REPORTDATE'])\n",
    "fulldata['FROMDATE']= pd.to_datetime(fulldata['FROMDATE'])"
   ]
  },
  {
   "cell_type": "markdown",
   "metadata": {},
   "source": [
    "#### convert from int to object"
   ]
  },
  {
   "cell_type": "code",
   "execution_count": 12,
   "metadata": {},
   "outputs": [],
   "source": [
    "fulldata['OBJECTID'] = fulldata['OBJECTID'].apply(str)\n",
    "fulldata['CRIMEID'] = fulldata['CRIMEID'].apply(str)\n",
    "fulldata['ROUTEID'] = fulldata['ROUTEID'].apply(str)\n",
    "fulldata['MARID'] = fulldata['MARID'].apply(str)"
   ]
  },
  {
   "cell_type": "markdown",
   "metadata": {},
   "source": [
    "# Fillter the data"
   ]
  },
  {
   "cell_type": "markdown",
   "metadata": {},
   "source": [
    "## Get the records from 2009-2020"
   ]
  },
  {
   "cell_type": "code",
   "execution_count": 13,
   "metadata": {},
   "outputs": [],
   "source": [
    "fulldata = fulldata[fulldata['REPORTDATE'].dt.year> 2008]\n",
    "fulldata = fulldata[fulldata['REPORTDATE'].dt.year< 2021]"
   ]
  },
  {
   "cell_type": "code",
   "execution_count": 14,
   "metadata": {},
   "outputs": [
    {
     "data": {
      "text/plain": [
       "REPORTDATE\n",
       "2009    12014\n",
       "2010    12141\n",
       "2011    13290\n",
       "2012    16747\n",
       "2013    17481\n",
       "2014    19383\n",
       "2015    22332\n",
       "2016    26563\n",
       "2017    26476\n",
       "2018    26538\n",
       "2019    26795\n",
       "2020    18294\n",
       "dtype: int64"
      ]
     },
     "execution_count": 14,
     "metadata": {},
     "output_type": "execute_result"
    }
   ],
   "source": [
    "fulldata.groupby([pd.DatetimeIndex(fulldata['REPORTDATE']).year]).size()"
   ]
  },
  {
   "cell_type": "markdown",
   "metadata": {},
   "source": [
    "## Work with NAs "
   ]
  },
  {
   "cell_type": "markdown",
   "metadata": {},
   "source": [
    "There are 5 columns contain missing values, those will be removed"
   ]
  },
  {
   "cell_type": "code",
   "execution_count": 15,
   "metadata": {},
   "outputs": [
    {
     "name": "stdout",
     "output_type": "stream",
     "text": [
      "Missing values per column:\n",
      "X                              0\n",
      "Y                              0\n",
      "OBJECTID                       0\n",
      "CRIMEID                        0\n",
      "CCN                            0\n",
      "REPORTDATE                     0\n",
      "ROUTEID                        0\n",
      "MEASURE                        0\n",
      "OFFSET                         0\n",
      "FROMDATE                       6\n",
      "MARID                          0\n",
      "ADDRESS                       80\n",
      "LATITUDE                       9\n",
      "LONGITUDE                      9\n",
      "XCOORD                         0\n",
      "YCOORD                         0\n",
      "EVENTID                        3\n",
      "MAJORINJURIES_BICYCLIST        0\n",
      "MINORINJURIES_BICYCLIST        0\n",
      "UNKNOWNINJURIES_BICYCLIST      0\n",
      "FATAL_BICYCLIST                0\n",
      "MAJORINJURIES_DRIVER           0\n",
      "MINORINJURIES_DRIVER           0\n",
      "UNKNOWNINJURIES_DRIVER         0\n",
      "FATAL_DRIVER                   0\n",
      "MAJORINJURIES_PEDESTRIAN       0\n",
      "MINORINJURIES_PEDESTRIAN       0\n",
      "UNKNOWNINJURIES_PEDESTRIAN     0\n",
      "FATAL_PEDESTRIAN               0\n",
      "TOTAL_VEHICLES                 0\n",
      "TOTAL_BICYCLES                 0\n",
      "TOTAL_PEDESTRIANS              0\n",
      "PEDESTRIANSIMPAIRED            0\n",
      "BICYCLISTSIMPAIRED             0\n",
      "DRIVERSIMPAIRED                0\n",
      "TOTAL_TAXIS                    0\n",
      "TOTAL_GOVERNMENT               0\n",
      "SPEEDING_INVOLVED              0\n",
      "NEARESTINTROUTEID              0\n",
      "NEARESTINTSTREETNAME           0\n",
      "OFFINTERSECTION                0\n",
      "INTAPPROACHDIRECTION           0\n",
      "FATALPASSENGER                 0\n",
      "MAJORINJURIESPASSENGER         0\n",
      "MINORINJURIESPASSENGER         0\n",
      "UNKNOWNINJURIESPASSENGER       0\n",
      "TOTAL_FATAL                    0\n",
      "TOTAL_MAJORINJURIES            0\n",
      "TOTAL_MINORINJURIES            0\n",
      "TOTAL_UNKNOWNINJURIES          0\n",
      "TOTAL_ACCEIDENTELEMENTS        0\n",
      "FATAL                          0\n",
      "TOTAL_INJURIES                 0\n",
      "TOTAL_INJURIES_ELEMENTS        0\n",
      "dtype: int64\n",
      "\n",
      "Missing values per row:\n",
      "647    0\n",
      "648    0\n",
      "649    0\n",
      "650    0\n",
      "651    0\n",
      "dtype: int64\n"
     ]
    }
   ],
   "source": [
    "#Create a new function:\n",
    "def num_missing(x):\n",
    "  return sum(x.isnull())\n",
    "\n",
    "#Applying per column:\n",
    "print (\"Missing values per column:\")\n",
    "print (fulldata.apply(num_missing, axis=0)) #axis=0 defines that function is to be applied on each column\n",
    "\n",
    "#Applying per row:\n",
    "print (\"\\nMissing values per row:\")\n",
    "print (fulldata.apply(num_missing, axis=1).head()) #axis=1 defines that function is to be applied on each row"
   ]
  },
  {
   "cell_type": "markdown",
   "metadata": {},
   "source": [
    "## Drop the missing data"
   ]
  },
  {
   "cell_type": "code",
   "execution_count": 16,
   "metadata": {},
   "outputs": [],
   "source": [
    "fulldata = fulldata[fulldata['ADDRESS'].notna()] #80\n",
    "fulldata = fulldata[fulldata['FROMDATE'].notna()] #6\n",
    "fulldata = fulldata[fulldata['LATITUDE'].notna()] #9\n",
    "fulldata = fulldata[fulldata['LONGITUDE'].notna()] #9\n",
    "fulldata = fulldata[fulldata['EVENTID'].notna()] #3\n"
   ]
  },
  {
   "cell_type": "markdown",
   "metadata": {},
   "source": [
    "## Drop all accident with no injuries or accident elements"
   ]
  },
  {
   "cell_type": "code",
   "execution_count": 17,
   "metadata": {},
   "outputs": [],
   "source": [
    "fulldata = fulldata[fulldata.TOTAL_INJURIES_ELEMENTS != 0]"
   ]
  },
  {
   "cell_type": "code",
   "execution_count": 18,
   "metadata": {},
   "outputs": [
    {
     "name": "stdout",
     "output_type": "stream",
     "text": [
      "<class 'pandas.core.frame.DataFrame'>\n",
      "Int64Index: 237193 entries, 647 to 257970\n",
      "Data columns (total 54 columns):\n",
      " #   Column                      Non-Null Count   Dtype              \n",
      "---  ------                      --------------   -----              \n",
      " 0   X                           237193 non-null  float64            \n",
      " 1   Y                           237193 non-null  float64            \n",
      " 2   OBJECTID                    237193 non-null  object             \n",
      " 3   CRIMEID                     237193 non-null  object             \n",
      " 4   CCN                         237193 non-null  object             \n",
      " 5   REPORTDATE                  237193 non-null  datetime64[ns, UTC]\n",
      " 6   ROUTEID                     237193 non-null  object             \n",
      " 7   MEASURE                     237193 non-null  float64            \n",
      " 8   OFFSET                      237193 non-null  float64            \n",
      " 9   FROMDATE                    237193 non-null  datetime64[ns, UTC]\n",
      " 10  MARID                       237193 non-null  object             \n",
      " 11  ADDRESS                     237193 non-null  object             \n",
      " 12  LATITUDE                    237193 non-null  float64            \n",
      " 13  LONGITUDE                   237193 non-null  float64            \n",
      " 14  XCOORD                      237193 non-null  float64            \n",
      " 15  YCOORD                      237193 non-null  float64            \n",
      " 16  EVENTID                     237193 non-null  object             \n",
      " 17  MAJORINJURIES_BICYCLIST     237193 non-null  int64              \n",
      " 18  MINORINJURIES_BICYCLIST     237193 non-null  int64              \n",
      " 19  UNKNOWNINJURIES_BICYCLIST   237193 non-null  int64              \n",
      " 20  FATAL_BICYCLIST             237193 non-null  int64              \n",
      " 21  MAJORINJURIES_DRIVER        237193 non-null  int64              \n",
      " 22  MINORINJURIES_DRIVER        237193 non-null  int64              \n",
      " 23  UNKNOWNINJURIES_DRIVER      237193 non-null  int64              \n",
      " 24  FATAL_DRIVER                237193 non-null  int64              \n",
      " 25  MAJORINJURIES_PEDESTRIAN    237193 non-null  int64              \n",
      " 26  MINORINJURIES_PEDESTRIAN    237193 non-null  int64              \n",
      " 27  UNKNOWNINJURIES_PEDESTRIAN  237193 non-null  int64              \n",
      " 28  FATAL_PEDESTRIAN            237193 non-null  int64              \n",
      " 29  TOTAL_VEHICLES              237193 non-null  int64              \n",
      " 30  TOTAL_BICYCLES              237193 non-null  int64              \n",
      " 31  TOTAL_PEDESTRIANS           237193 non-null  int64              \n",
      " 32  PEDESTRIANSIMPAIRED         237193 non-null  int64              \n",
      " 33  BICYCLISTSIMPAIRED          237193 non-null  int64              \n",
      " 34  DRIVERSIMPAIRED             237193 non-null  int64              \n",
      " 35  TOTAL_TAXIS                 237193 non-null  int64              \n",
      " 36  TOTAL_GOVERNMENT            237193 non-null  int64              \n",
      " 37  SPEEDING_INVOLVED           237193 non-null  int64              \n",
      " 38  NEARESTINTROUTEID           237193 non-null  object             \n",
      " 39  NEARESTINTSTREETNAME        237193 non-null  object             \n",
      " 40  OFFINTERSECTION             237193 non-null  float64            \n",
      " 41  INTAPPROACHDIRECTION        237193 non-null  object             \n",
      " 42  FATALPASSENGER              237193 non-null  int64              \n",
      " 43  MAJORINJURIESPASSENGER      237193 non-null  int64              \n",
      " 44  MINORINJURIESPASSENGER      237193 non-null  int64              \n",
      " 45  UNKNOWNINJURIESPASSENGER    237193 non-null  int64              \n",
      " 46  TOTAL_FATAL                 237193 non-null  int64              \n",
      " 47  TOTAL_MAJORINJURIES         237193 non-null  int64              \n",
      " 48  TOTAL_MINORINJURIES         237193 non-null  int64              \n",
      " 49  TOTAL_UNKNOWNINJURIES       237193 non-null  int64              \n",
      " 50  TOTAL_ACCEIDENTELEMENTS     237193 non-null  int64              \n",
      " 51  FATAL                       237193 non-null  int64              \n",
      " 52  TOTAL_INJURIES              237193 non-null  int64              \n",
      " 53  TOTAL_INJURIES_ELEMENTS     237193 non-null  int64              \n",
      "dtypes: datetime64[ns, UTC](2), float64(9), int64(33), object(10)\n",
      "memory usage: 99.5+ MB\n"
     ]
    }
   ],
   "source": [
    "fulldata.info()"
   ]
  },
  {
   "cell_type": "code",
   "execution_count": 19,
   "metadata": {},
   "outputs": [
    {
     "data": {
      "text/html": [
       "<div>\n",
       "<style scoped>\n",
       "    .dataframe tbody tr th:only-of-type {\n",
       "        vertical-align: middle;\n",
       "    }\n",
       "\n",
       "    .dataframe tbody tr th {\n",
       "        vertical-align: top;\n",
       "    }\n",
       "\n",
       "    .dataframe thead th {\n",
       "        text-align: right;\n",
       "    }\n",
       "</style>\n",
       "<table border=\"1\" class=\"dataframe\">\n",
       "  <thead>\n",
       "    <tr style=\"text-align: right;\">\n",
       "      <th></th>\n",
       "      <th>X</th>\n",
       "      <th>Y</th>\n",
       "      <th>MEASURE</th>\n",
       "      <th>OFFSET</th>\n",
       "      <th>LATITUDE</th>\n",
       "      <th>LONGITUDE</th>\n",
       "      <th>XCOORD</th>\n",
       "      <th>YCOORD</th>\n",
       "      <th>MAJORINJURIES_BICYCLIST</th>\n",
       "      <th>MINORINJURIES_BICYCLIST</th>\n",
       "      <th>...</th>\n",
       "      <th>MINORINJURIESPASSENGER</th>\n",
       "      <th>UNKNOWNINJURIESPASSENGER</th>\n",
       "      <th>TOTAL_FATAL</th>\n",
       "      <th>TOTAL_MAJORINJURIES</th>\n",
       "      <th>TOTAL_MINORINJURIES</th>\n",
       "      <th>TOTAL_UNKNOWNINJURIES</th>\n",
       "      <th>TOTAL_ACCEIDENTELEMENTS</th>\n",
       "      <th>FATAL</th>\n",
       "      <th>TOTAL_INJURIES</th>\n",
       "      <th>TOTAL_INJURIES_ELEMENTS</th>\n",
       "    </tr>\n",
       "  </thead>\n",
       "  <tbody>\n",
       "    <tr>\n",
       "      <th>count</th>\n",
       "      <td>237193.000000</td>\n",
       "      <td>237193.000000</td>\n",
       "      <td>237193.000000</td>\n",
       "      <td>237193.000000</td>\n",
       "      <td>237193.000000</td>\n",
       "      <td>237193.000000</td>\n",
       "      <td>237193.000000</td>\n",
       "      <td>237193.000000</td>\n",
       "      <td>237193.000000</td>\n",
       "      <td>237193.000000</td>\n",
       "      <td>...</td>\n",
       "      <td>237193.000000</td>\n",
       "      <td>237193.000000</td>\n",
       "      <td>237193.000000</td>\n",
       "      <td>237193.000000</td>\n",
       "      <td>237193.000000</td>\n",
       "      <td>237193.000000</td>\n",
       "      <td>237193.000000</td>\n",
       "      <td>237193.000000</td>\n",
       "      <td>237193.000000</td>\n",
       "      <td>237193.000000</td>\n",
       "    </tr>\n",
       "    <tr>\n",
       "      <th>mean</th>\n",
       "      <td>-76.324041</td>\n",
       "      <td>38.422570</td>\n",
       "      <td>1012.497453</td>\n",
       "      <td>12.329332</td>\n",
       "      <td>38.904672</td>\n",
       "      <td>-77.007878</td>\n",
       "      <td>399260.300705</td>\n",
       "      <td>137423.659793</td>\n",
       "      <td>0.001615</td>\n",
       "      <td>0.010991</td>\n",
       "      <td>...</td>\n",
       "      <td>0.079994</td>\n",
       "      <td>0.009520</td>\n",
       "      <td>0.002007</td>\n",
       "      <td>0.109531</td>\n",
       "      <td>0.295856</td>\n",
       "      <td>0.076566</td>\n",
       "      <td>2.245682</td>\n",
       "      <td>0.001952</td>\n",
       "      <td>0.481954</td>\n",
       "      <td>2.727635</td>\n",
       "    </tr>\n",
       "    <tr>\n",
       "      <th>std</th>\n",
       "      <td>6.792604</td>\n",
       "      <td>4.780717</td>\n",
       "      <td>1553.376633</td>\n",
       "      <td>13.488095</td>\n",
       "      <td>0.030836</td>\n",
       "      <td>0.318286</td>\n",
       "      <td>3141.062430</td>\n",
       "      <td>3425.134140</td>\n",
       "      <td>0.040256</td>\n",
       "      <td>0.104705</td>\n",
       "      <td>...</td>\n",
       "      <td>0.378197</td>\n",
       "      <td>0.131995</td>\n",
       "      <td>0.045961</td>\n",
       "      <td>0.459874</td>\n",
       "      <td>0.656691</td>\n",
       "      <td>0.311264</td>\n",
       "      <td>0.663670</td>\n",
       "      <td>0.044138</td>\n",
       "      <td>0.838257</td>\n",
       "      <td>1.096224</td>\n",
       "    </tr>\n",
       "    <tr>\n",
       "      <th>min</th>\n",
       "      <td>-78.815503</td>\n",
       "      <td>-9.000001</td>\n",
       "      <td>0.000000</td>\n",
       "      <td>0.000000</td>\n",
       "      <td>38.805520</td>\n",
       "      <td>-77.114757</td>\n",
       "      <td>390050.862000</td>\n",
       "      <td>126708.403000</td>\n",
       "      <td>0.000000</td>\n",
       "      <td>0.000000</td>\n",
       "      <td>...</td>\n",
       "      <td>0.000000</td>\n",
       "      <td>0.000000</td>\n",
       "      <td>0.000000</td>\n",
       "      <td>0.000000</td>\n",
       "      <td>0.000000</td>\n",
       "      <td>0.000000</td>\n",
       "      <td>0.000000</td>\n",
       "      <td>0.000000</td>\n",
       "      <td>0.000000</td>\n",
       "      <td>1.000000</td>\n",
       "    </tr>\n",
       "    <tr>\n",
       "      <th>25%</th>\n",
       "      <td>-77.031964</td>\n",
       "      <td>38.887579</td>\n",
       "      <td>0.000000</td>\n",
       "      <td>0.060000</td>\n",
       "      <td>38.888558</td>\n",
       "      <td>-77.032265</td>\n",
       "      <td>397201.939000</td>\n",
       "      <td>135641.110000</td>\n",
       "      <td>0.000000</td>\n",
       "      <td>0.000000</td>\n",
       "      <td>...</td>\n",
       "      <td>0.000000</td>\n",
       "      <td>0.000000</td>\n",
       "      <td>0.000000</td>\n",
       "      <td>0.000000</td>\n",
       "      <td>0.000000</td>\n",
       "      <td>0.000000</td>\n",
       "      <td>2.000000</td>\n",
       "      <td>0.000000</td>\n",
       "      <td>0.000000</td>\n",
       "      <td>2.000000</td>\n",
       "    </tr>\n",
       "    <tr>\n",
       "      <th>50%</th>\n",
       "      <td>-77.010270</td>\n",
       "      <td>38.904208</td>\n",
       "      <td>268.260000</td>\n",
       "      <td>6.990000</td>\n",
       "      <td>38.904479</td>\n",
       "      <td>-77.010897</td>\n",
       "      <td>399047.974000</td>\n",
       "      <td>137404.641000</td>\n",
       "      <td>0.000000</td>\n",
       "      <td>0.000000</td>\n",
       "      <td>...</td>\n",
       "      <td>0.000000</td>\n",
       "      <td>0.000000</td>\n",
       "      <td>0.000000</td>\n",
       "      <td>0.000000</td>\n",
       "      <td>0.000000</td>\n",
       "      <td>0.000000</td>\n",
       "      <td>2.000000</td>\n",
       "      <td>0.000000</td>\n",
       "      <td>0.000000</td>\n",
       "      <td>3.000000</td>\n",
       "    </tr>\n",
       "    <tr>\n",
       "      <th>75%</th>\n",
       "      <td>-76.984235</td>\n",
       "      <td>38.922301</td>\n",
       "      <td>1487.790000</td>\n",
       "      <td>21.550000</td>\n",
       "      <td>38.922524</td>\n",
       "      <td>-76.985293</td>\n",
       "      <td>401274.380000</td>\n",
       "      <td>139405.739000</td>\n",
       "      <td>0.000000</td>\n",
       "      <td>0.000000</td>\n",
       "      <td>...</td>\n",
       "      <td>0.000000</td>\n",
       "      <td>0.000000</td>\n",
       "      <td>0.000000</td>\n",
       "      <td>0.000000</td>\n",
       "      <td>0.000000</td>\n",
       "      <td>0.000000</td>\n",
       "      <td>3.000000</td>\n",
       "      <td>0.000000</td>\n",
       "      <td>1.000000</td>\n",
       "      <td>3.000000</td>\n",
       "    </tr>\n",
       "    <tr>\n",
       "      <th>max</th>\n",
       "      <td>76.997681</td>\n",
       "      <td>40.000008</td>\n",
       "      <td>10660.870000</td>\n",
       "      <td>50.000000</td>\n",
       "      <td>38.994746</td>\n",
       "      <td>76.997665</td>\n",
       "      <td>407848.390000</td>\n",
       "      <td>147423.652000</td>\n",
       "      <td>2.000000</td>\n",
       "      <td>2.000000</td>\n",
       "      <td>...</td>\n",
       "      <td>17.000000</td>\n",
       "      <td>15.000000</td>\n",
       "      <td>2.000000</td>\n",
       "      <td>51.000000</td>\n",
       "      <td>19.000000</td>\n",
       "      <td>16.000000</td>\n",
       "      <td>17.000000</td>\n",
       "      <td>1.000000</td>\n",
       "      <td>51.000000</td>\n",
       "      <td>55.000000</td>\n",
       "    </tr>\n",
       "  </tbody>\n",
       "</table>\n",
       "<p>8 rows × 42 columns</p>\n",
       "</div>"
      ],
      "text/plain": [
       "                   X              Y        MEASURE         OFFSET  \\\n",
       "count  237193.000000  237193.000000  237193.000000  237193.000000   \n",
       "mean      -76.324041      38.422570    1012.497453      12.329332   \n",
       "std         6.792604       4.780717    1553.376633      13.488095   \n",
       "min       -78.815503      -9.000001       0.000000       0.000000   \n",
       "25%       -77.031964      38.887579       0.000000       0.060000   \n",
       "50%       -77.010270      38.904208     268.260000       6.990000   \n",
       "75%       -76.984235      38.922301    1487.790000      21.550000   \n",
       "max        76.997681      40.000008   10660.870000      50.000000   \n",
       "\n",
       "            LATITUDE      LONGITUDE         XCOORD         YCOORD  \\\n",
       "count  237193.000000  237193.000000  237193.000000  237193.000000   \n",
       "mean       38.904672     -77.007878  399260.300705  137423.659793   \n",
       "std         0.030836       0.318286    3141.062430    3425.134140   \n",
       "min        38.805520     -77.114757  390050.862000  126708.403000   \n",
       "25%        38.888558     -77.032265  397201.939000  135641.110000   \n",
       "50%        38.904479     -77.010897  399047.974000  137404.641000   \n",
       "75%        38.922524     -76.985293  401274.380000  139405.739000   \n",
       "max        38.994746      76.997665  407848.390000  147423.652000   \n",
       "\n",
       "       MAJORINJURIES_BICYCLIST  MINORINJURIES_BICYCLIST  ...  \\\n",
       "count            237193.000000            237193.000000  ...   \n",
       "mean                  0.001615                 0.010991  ...   \n",
       "std                   0.040256                 0.104705  ...   \n",
       "min                   0.000000                 0.000000  ...   \n",
       "25%                   0.000000                 0.000000  ...   \n",
       "50%                   0.000000                 0.000000  ...   \n",
       "75%                   0.000000                 0.000000  ...   \n",
       "max                   2.000000                 2.000000  ...   \n",
       "\n",
       "       MINORINJURIESPASSENGER  UNKNOWNINJURIESPASSENGER    TOTAL_FATAL  \\\n",
       "count           237193.000000             237193.000000  237193.000000   \n",
       "mean                 0.079994                  0.009520       0.002007   \n",
       "std                  0.378197                  0.131995       0.045961   \n",
       "min                  0.000000                  0.000000       0.000000   \n",
       "25%                  0.000000                  0.000000       0.000000   \n",
       "50%                  0.000000                  0.000000       0.000000   \n",
       "75%                  0.000000                  0.000000       0.000000   \n",
       "max                 17.000000                 15.000000       2.000000   \n",
       "\n",
       "       TOTAL_MAJORINJURIES  TOTAL_MINORINJURIES  TOTAL_UNKNOWNINJURIES  \\\n",
       "count        237193.000000        237193.000000          237193.000000   \n",
       "mean              0.109531             0.295856               0.076566   \n",
       "std               0.459874             0.656691               0.311264   \n",
       "min               0.000000             0.000000               0.000000   \n",
       "25%               0.000000             0.000000               0.000000   \n",
       "50%               0.000000             0.000000               0.000000   \n",
       "75%               0.000000             0.000000               0.000000   \n",
       "max              51.000000            19.000000              16.000000   \n",
       "\n",
       "       TOTAL_ACCEIDENTELEMENTS          FATAL  TOTAL_INJURIES  \\\n",
       "count            237193.000000  237193.000000   237193.000000   \n",
       "mean                  2.245682       0.001952        0.481954   \n",
       "std                   0.663670       0.044138        0.838257   \n",
       "min                   0.000000       0.000000        0.000000   \n",
       "25%                   2.000000       0.000000        0.000000   \n",
       "50%                   2.000000       0.000000        0.000000   \n",
       "75%                   3.000000       0.000000        1.000000   \n",
       "max                  17.000000       1.000000       51.000000   \n",
       "\n",
       "       TOTAL_INJURIES_ELEMENTS  \n",
       "count            237193.000000  \n",
       "mean                  2.727635  \n",
       "std                   1.096224  \n",
       "min                   1.000000  \n",
       "25%                   2.000000  \n",
       "50%                   3.000000  \n",
       "75%                   3.000000  \n",
       "max                  55.000000  \n",
       "\n",
       "[8 rows x 42 columns]"
      ]
     },
     "execution_count": 19,
     "metadata": {},
     "output_type": "execute_result"
    }
   ],
   "source": [
    "fulldata.describe()"
   ]
  },
  {
   "cell_type": "code",
   "execution_count": 20,
   "metadata": {},
   "outputs": [
    {
     "name": "stdout",
     "output_type": "stream",
     "text": [
      "lowest    115755\n",
      "low       121254\n",
      "medium       129\n",
      "high          49\n",
      "extrem         6\n",
      "Name: Rate, dtype: int64\n"
     ]
    }
   ],
   "source": [
    "#Binning:\n",
    "def binning(col, cut_points, labels=None):\n",
    "  #Define min and max values:\n",
    "  minval = col.min()\n",
    "  maxval = col.max()\n",
    "\n",
    "  #create list by adding min and max to cut_points\n",
    "  break_points = [minval] + cut_points + [maxval]\n",
    "\n",
    "  #if no labels provided, use default labels 0 ... (n-1)\n",
    "  if not labels:\n",
    "    labels = range(len(cut_points)+1)\n",
    "\n",
    "  #Binning using cut function of pandas\n",
    "  colBin = pd.cut(col,bins=break_points,labels=labels,include_lowest=True)\n",
    "  return colBin\n",
    "\n",
    "#Binning age:\n",
    "cut_points = [2,10,13,30]\n",
    "labels = ['lowest',\"low\",\"medium\",\"high\",'extrem']\n",
    "fulldata[\"Rate\"] = binning(fulldata['TOTAL_INJURIES_ELEMENTS'], cut_points, labels)\n",
    "print (pd.value_counts(fulldata[\"Rate\"], sort=False))"
   ]
  },
  {
   "cell_type": "markdown",
   "metadata": {},
   "source": [
    "# Explore the data"
   ]
  },
  {
   "cell_type": "code",
   "execution_count": 21,
   "metadata": {},
   "outputs": [
    {
     "data": {
      "text/html": [
       "<div>\n",
       "<style scoped>\n",
       "    .dataframe tbody tr th:only-of-type {\n",
       "        vertical-align: middle;\n",
       "    }\n",
       "\n",
       "    .dataframe tbody tr th {\n",
       "        vertical-align: top;\n",
       "    }\n",
       "\n",
       "    .dataframe thead th {\n",
       "        text-align: right;\n",
       "    }\n",
       "</style>\n",
       "<table border=\"1\" class=\"dataframe\">\n",
       "  <thead>\n",
       "    <tr style=\"text-align: right;\">\n",
       "      <th></th>\n",
       "      <th>TOTAL_FATAL</th>\n",
       "      <th>TOTAL_MAJORINJURIES</th>\n",
       "      <th>TOTAL_UNKNOWNINJURIES</th>\n",
       "      <th>TOTAL_ACCEIDENTELEMENTS</th>\n",
       "      <th>TOTAL_ACCEIDENTELEMENTS</th>\n",
       "      <th>TOTAL_INJURIES</th>\n",
       "      <th>TOTAL_INJURIES_ELEMENTS</th>\n",
       "    </tr>\n",
       "  </thead>\n",
       "  <tbody>\n",
       "    <tr>\n",
       "      <th>count</th>\n",
       "      <td>237193.000000</td>\n",
       "      <td>237193.000000</td>\n",
       "      <td>237193.000000</td>\n",
       "      <td>237193.000000</td>\n",
       "      <td>237193.000000</td>\n",
       "      <td>237193.000000</td>\n",
       "      <td>237193.000000</td>\n",
       "    </tr>\n",
       "    <tr>\n",
       "      <th>mean</th>\n",
       "      <td>0.002007</td>\n",
       "      <td>0.109531</td>\n",
       "      <td>0.076566</td>\n",
       "      <td>2.245682</td>\n",
       "      <td>2.245682</td>\n",
       "      <td>0.481954</td>\n",
       "      <td>2.727635</td>\n",
       "    </tr>\n",
       "    <tr>\n",
       "      <th>std</th>\n",
       "      <td>0.045961</td>\n",
       "      <td>0.459874</td>\n",
       "      <td>0.311264</td>\n",
       "      <td>0.663670</td>\n",
       "      <td>0.663670</td>\n",
       "      <td>0.838257</td>\n",
       "      <td>1.096224</td>\n",
       "    </tr>\n",
       "    <tr>\n",
       "      <th>min</th>\n",
       "      <td>0.000000</td>\n",
       "      <td>0.000000</td>\n",
       "      <td>0.000000</td>\n",
       "      <td>0.000000</td>\n",
       "      <td>0.000000</td>\n",
       "      <td>0.000000</td>\n",
       "      <td>1.000000</td>\n",
       "    </tr>\n",
       "    <tr>\n",
       "      <th>25%</th>\n",
       "      <td>0.000000</td>\n",
       "      <td>0.000000</td>\n",
       "      <td>0.000000</td>\n",
       "      <td>2.000000</td>\n",
       "      <td>2.000000</td>\n",
       "      <td>0.000000</td>\n",
       "      <td>2.000000</td>\n",
       "    </tr>\n",
       "    <tr>\n",
       "      <th>50%</th>\n",
       "      <td>0.000000</td>\n",
       "      <td>0.000000</td>\n",
       "      <td>0.000000</td>\n",
       "      <td>2.000000</td>\n",
       "      <td>2.000000</td>\n",
       "      <td>0.000000</td>\n",
       "      <td>3.000000</td>\n",
       "    </tr>\n",
       "    <tr>\n",
       "      <th>75%</th>\n",
       "      <td>0.000000</td>\n",
       "      <td>0.000000</td>\n",
       "      <td>0.000000</td>\n",
       "      <td>3.000000</td>\n",
       "      <td>3.000000</td>\n",
       "      <td>1.000000</td>\n",
       "      <td>3.000000</td>\n",
       "    </tr>\n",
       "    <tr>\n",
       "      <th>max</th>\n",
       "      <td>2.000000</td>\n",
       "      <td>51.000000</td>\n",
       "      <td>16.000000</td>\n",
       "      <td>17.000000</td>\n",
       "      <td>17.000000</td>\n",
       "      <td>51.000000</td>\n",
       "      <td>55.000000</td>\n",
       "    </tr>\n",
       "  </tbody>\n",
       "</table>\n",
       "</div>"
      ],
      "text/plain": [
       "         TOTAL_FATAL  TOTAL_MAJORINJURIES  TOTAL_UNKNOWNINJURIES  \\\n",
       "count  237193.000000        237193.000000          237193.000000   \n",
       "mean        0.002007             0.109531               0.076566   \n",
       "std         0.045961             0.459874               0.311264   \n",
       "min         0.000000             0.000000               0.000000   \n",
       "25%         0.000000             0.000000               0.000000   \n",
       "50%         0.000000             0.000000               0.000000   \n",
       "75%         0.000000             0.000000               0.000000   \n",
       "max         2.000000            51.000000              16.000000   \n",
       "\n",
       "       TOTAL_ACCEIDENTELEMENTS  TOTAL_ACCEIDENTELEMENTS  TOTAL_INJURIES  \\\n",
       "count            237193.000000            237193.000000   237193.000000   \n",
       "mean                  2.245682                 2.245682        0.481954   \n",
       "std                   0.663670                 0.663670        0.838257   \n",
       "min                   0.000000                 0.000000        0.000000   \n",
       "25%                   2.000000                 2.000000        0.000000   \n",
       "50%                   2.000000                 2.000000        0.000000   \n",
       "75%                   3.000000                 3.000000        1.000000   \n",
       "max                  17.000000                17.000000       51.000000   \n",
       "\n",
       "       TOTAL_INJURIES_ELEMENTS  \n",
       "count            237193.000000  \n",
       "mean                  2.727635  \n",
       "std                   1.096224  \n",
       "min                   1.000000  \n",
       "25%                   2.000000  \n",
       "50%                   3.000000  \n",
       "75%                   3.000000  \n",
       "max                  55.000000  "
      ]
     },
     "execution_count": 21,
     "metadata": {},
     "output_type": "execute_result"
    }
   ],
   "source": [
    "fulldata[['TOTAL_FATAL','TOTAL_MAJORINJURIES','TOTAL_UNKNOWNINJURIES','TOTAL_ACCEIDENTELEMENTS','TOTAL_ACCEIDENTELEMENTS','TOTAL_INJURIES','TOTAL_INJURIES_ELEMENTS']].describe()"
   ]
  },
  {
   "cell_type": "code",
   "execution_count": 22,
   "metadata": {},
   "outputs": [
    {
     "data": {
      "text/plain": [
       "REPORTDATE\n",
       "2009    11982\n",
       "2010    12138\n",
       "2011    13265\n",
       "2012    16682\n",
       "2013    17418\n",
       "2014    19225\n",
       "2015    22220\n",
       "2016    26470\n",
       "2017    26381\n",
       "2018    26471\n",
       "2019    26711\n",
       "2020    18230\n",
       "dtype: int64"
      ]
     },
     "execution_count": 22,
     "metadata": {},
     "output_type": "execute_result"
    }
   ],
   "source": [
    "fulldata.groupby([pd.DatetimeIndex(fulldata['REPORTDATE']).year]).size()"
   ]
  },
  {
   "cell_type": "markdown",
   "metadata": {},
   "source": [
    "## Visualization"
   ]
  },
  {
   "cell_type": "code",
   "execution_count": 67,
   "metadata": {},
   "outputs": [
    {
     "data": {
      "text/plain": [
       "array([[<AxesSubplot:xlabel='TOTAL_FATAL', ylabel='TOTAL_FATAL'>,\n",
       "        <AxesSubplot:xlabel='TOTAL_INJURIES', ylabel='TOTAL_FATAL'>,\n",
       "        <AxesSubplot:xlabel='TOTAL_ACCEIDENTELEMENTS', ylabel='TOTAL_FATAL'>,\n",
       "        <AxesSubplot:xlabel='TOTAL_INJURIES_ELEMENTS', ylabel='TOTAL_FATAL'>],\n",
       "       [<AxesSubplot:xlabel='TOTAL_FATAL', ylabel='TOTAL_INJURIES'>,\n",
       "        <AxesSubplot:xlabel='TOTAL_INJURIES', ylabel='TOTAL_INJURIES'>,\n",
       "        <AxesSubplot:xlabel='TOTAL_ACCEIDENTELEMENTS', ylabel='TOTAL_INJURIES'>,\n",
       "        <AxesSubplot:xlabel='TOTAL_INJURIES_ELEMENTS', ylabel='TOTAL_INJURIES'>],\n",
       "       [<AxesSubplot:xlabel='TOTAL_FATAL', ylabel='TOTAL_ACCEIDENTELEMENTS'>,\n",
       "        <AxesSubplot:xlabel='TOTAL_INJURIES', ylabel='TOTAL_ACCEIDENTELEMENTS'>,\n",
       "        <AxesSubplot:xlabel='TOTAL_ACCEIDENTELEMENTS', ylabel='TOTAL_ACCEIDENTELEMENTS'>,\n",
       "        <AxesSubplot:xlabel='TOTAL_INJURIES_ELEMENTS', ylabel='TOTAL_ACCEIDENTELEMENTS'>],\n",
       "       [<AxesSubplot:xlabel='TOTAL_FATAL', ylabel='TOTAL_INJURIES_ELEMENTS'>,\n",
       "        <AxesSubplot:xlabel='TOTAL_INJURIES', ylabel='TOTAL_INJURIES_ELEMENTS'>,\n",
       "        <AxesSubplot:xlabel='TOTAL_ACCEIDENTELEMENTS', ylabel='TOTAL_INJURIES_ELEMENTS'>,\n",
       "        <AxesSubplot:xlabel='TOTAL_INJURIES_ELEMENTS', ylabel='TOTAL_INJURIES_ELEMENTS'>]],\n",
       "      dtype=object)"
      ]
     },
     "execution_count": 67,
     "metadata": {},
     "output_type": "execute_result"
    },
    {
     "data": {
      "image/png": "[encoded data removed]",
      "text/plain": [
       "<Figure size 720x720 with 16 Axes>"
      ]
     },
     "metadata": {
      "needs_background": "light"
     },
     "output_type": "display_data"
    }
   ],
   "source": [
    "import pandas.plotting as pltt\n",
    "pltt.scatter_matrix(fulldata[['TOTAL_FATAL','TOTAL_INJURIES', 'TOTAL_ACCEIDENTELEMENTS', 'TOTAL_INJURIES_ELEMENTS']], figsize= (10,10))   "
   ]
  },
  {
   "cell_type": "code",
   "execution_count": 69,
   "metadata": {},
   "outputs": [
    {
     "data": {
      "text/plain": [
       "<AxesSubplot:title={'center':'TOTAL_VEHICLES'}>"
      ]
     },
     "execution_count": 69,
     "metadata": {},
     "output_type": "execute_result"
    },
    {
     "data": {
      "image/png": "[encoded data removed]",
      "text/plain": [
       "<Figure size 432x288 with 1 Axes>"
      ]
     },
     "metadata": {
      "needs_background": "light"
     },
     "output_type": "display_data"
    }
   ],
   "source": [
    "fulldata.INTAPPROACHDIRECTION.value_counts(normalize=True).plot(kind = 'bar', title = \"TOTAL_VEHICLES\")\n"
   ]
  },
  {
   "cell_type": "code",
   "execution_count": 70,
   "metadata": {},
   "outputs": [
    {
     "data": {
      "text/plain": [
       "<AxesSubplot:title={'center':'TOTAL_INJURIES_ELEMENTS'}, xlabel='INTAPPROACHDIRECTION'>"
      ]
     },
     "execution_count": 70,
     "metadata": {},
     "output_type": "execute_result"
    },
    {
     "data": {
      "image/png": "[encoded data removed]",
      "text/plain": [
       "<Figure size 720x576 with 1 Axes>"
      ]
     },
     "metadata": {
      "needs_background": "light"
     },
     "output_type": "display_data"
    }
   ],
   "source": [
    "import matplotlib.pyplot as plt\n",
    "%matplotlib inline\n",
    "fulldata.boxplot(column=\"TOTAL_INJURIES_ELEMENTS\",by=\"INTAPPROACHDIRECTION\", figsize=(10,8))"
   ]
  },
  {
   "cell_type": "code",
   "execution_count": 72,
   "metadata": {},
   "outputs": [
    {
     "data": {
      "text/plain": [
       "<AxesSubplot:title={'center':'TOTAL_ACCEIDENTELEMENTS'}, xlabel='DRIVERSIMPAIRED'>"
      ]
     },
     "execution_count": 72,
     "metadata": {},
     "output_type": "execute_result"
    },
    {
     "data": {
      "image/png": "[encoded data removed]",
      "text/plain": [
       "<Figure size 720x576 with 1 Axes>"
      ]
     },
     "metadata": {
      "needs_background": "light"
     },
     "output_type": "display_data"
    }
   ],
   "source": [
    "fulldata.boxplot(column=\"TOTAL_ACCEIDENTELEMENTS\",by=\"DRIVERSIMPAIRED\", figsize=(10,8))"
   ]
  },
  {
   "cell_type": "code",
   "execution_count": 73,
   "metadata": {},
   "outputs": [
    {
     "data": {
      "text/plain": [
       "array([[<AxesSubplot:title={'center':'0'}>,\n",
       "        <AxesSubplot:title={'center':'1'}>],\n",
       "       [<AxesSubplot:title={'center':'2'}>, <AxesSubplot:>]], dtype=object)"
      ]
     },
     "execution_count": 73,
     "metadata": {},
     "output_type": "execute_result"
    },
    {
     "data": {
      "image/png": "[encoded data removed]",
      "text/plain": [
       "<Figure size 432x288 with 4 Axes>"
      ]
     },
     "metadata": {
      "needs_background": "light"
     },
     "output_type": "display_data"
    }
   ],
   "source": [
    "fulldata.hist(column=\"TOTAL_ACCEIDENTELEMENTS\",by=\"SPEEDING_INVOLVED\",bins=30)"
   ]
  },
  {
   "cell_type": "code",
   "execution_count": 74,
   "metadata": {},
   "outputs": [
    {
     "data": {
      "text/plain": [
       "array([[<AxesSubplot:title={'center':'TOTAL_INJURIES_ELEMENTS'}, xlabel='Rate'>,\n",
       "        <AxesSubplot:title={'center':'TOTAL_INJURIES'}, xlabel='Rate'>],\n",
       "       [<AxesSubplot:title={'center':'TOTAL_ACCEIDENTELEMENTS'}, xlabel='Rate'>,\n",
       "        <AxesSubplot:title={'center':'TOTAL_MAJORINJURIES'}, xlabel='Rate'>]],\n",
       "      dtype=object)"
      ]
     },
     "execution_count": 74,
     "metadata": {},
     "output_type": "execute_result"
    },
    {
     "data": {
      "image/png": "[encoded data removed]",
      "text/plain": [
       "<Figure size 720x576 with 4 Axes>"
      ]
     },
     "metadata": {
      "needs_background": "light"
     },
     "output_type": "display_data"
    }
   ],
   "source": [
    "fulldata.boxplot(column=[\"TOTAL_INJURIES_ELEMENTS\",'TOTAL_INJURIES', 'TOTAL_ACCEIDENTELEMENTS', 'TOTAL_MAJORINJURIES'],by=\"Rate\", figsize=(10,8))"
   ]
  },
  {
   "cell_type": "code",
   "execution_count": 23,
   "metadata": {},
   "outputs": [
    {
     "data": {
      "text/plain": [
       "array([[<AxesSubplot:title={'center':'TOTAL_INJURIES_ELEMENTS'}, xlabel='INTAPPROACHDIRECTION'>,\n",
       "        <AxesSubplot:title={'center':'TOTAL_FATAL'}, xlabel='INTAPPROACHDIRECTION'>],\n",
       "       [<AxesSubplot:title={'center':'TOTAL_INJURIES'}, xlabel='INTAPPROACHDIRECTION'>,\n",
       "        <AxesSubplot:title={'center':'TOTAL_ACCEIDENTELEMENTS'}, xlabel='INTAPPROACHDIRECTION'>]],\n",
       "      dtype=object)"
      ]
     },
     "execution_count": 23,
     "metadata": {},
     "output_type": "execute_result"
    },
    {
     "data": {
      "image/png": "[encoded data removed]",
      "text/plain": [
       "<Figure size 1080x576 with 4 Axes>"
      ]
     },
     "metadata": {
      "needs_background": "light"
     },
     "output_type": "display_data"
    }
   ],
   "source": [
    "fulldata.boxplot(column=[\"TOTAL_INJURIES_ELEMENTS\",'TOTAL_FATAL','TOTAL_INJURIES', 'TOTAL_ACCEIDENTELEMENTS'],by=\"INTAPPROACHDIRECTION\", figsize=(15,8))"
   ]
  },
  {
   "cell_type": "code",
   "execution_count": 76,
   "metadata": {},
   "outputs": [
    {
     "data": {
      "text/plain": [
       "count    237193.000000\n",
       "mean          2.727635\n",
       "std           1.096224\n",
       "min           1.000000\n",
       "25%           2.000000\n",
       "50%           3.000000\n",
       "75%           3.000000\n",
       "max          55.000000\n",
       "Name: TOTAL_INJURIES_ELEMENTS, dtype: float64"
      ]
     },
     "execution_count": 76,
     "metadata": {},
     "output_type": "execute_result"
    }
   ],
   "source": [
    "fulldata['TOTAL_INJURIES_ELEMENTS'].describe()"
   ]
  },
  {
   "cell_type": "markdown",
   "metadata": {},
   "source": [
    "# Export The data"
   ]
  },
  {
   "cell_type": "code",
   "execution_count": 24,
   "metadata": {},
   "outputs": [],
   "source": [
    "fulldata.to_csv('/Volumes/LOVUN/George Mason Files/Fall 2021/AIT 614/project/data/Nov21_datasset.csv')"
   ]
  },
  {
   "cell_type": "code",
   "execution_count": 36,
   "metadata": {},
   "outputs": [
    {
     "name": "stdout",
     "output_type": "stream",
     "text": [
      "<class 'pandas.core.frame.DataFrame'>\n",
      "Int64Index: 237956 entries, 647 to 257970\n",
      "Data columns (total 54 columns):\n",
      " #   Column                      Non-Null Count   Dtype              \n",
      "---  ------                      --------------   -----              \n",
      " 0   X                           237956 non-null  float64            \n",
      " 1   Y                           237956 non-null  float64            \n",
      " 2   OBJECTID                    237956 non-null  object             \n",
      " 3   CRIMEID                     237956 non-null  object             \n",
      " 4   CCN                         237956 non-null  object             \n",
      " 5   REPORTDATE                  237956 non-null  datetime64[ns, UTC]\n",
      " 6   ROUTEID                     237956 non-null  object             \n",
      " 7   MEASURE                     237956 non-null  float64            \n",
      " 8   OFFSET                      237956 non-null  float64            \n",
      " 9   FROMDATE                    237956 non-null  datetime64[ns, UTC]\n",
      " 10  MARID                       237956 non-null  object             \n",
      " 11  ADDRESS                     237956 non-null  object             \n",
      " 12  LATITUDE                    237956 non-null  float64            \n",
      " 13  LONGITUDE                   237956 non-null  float64            \n",
      " 14  XCOORD                      237956 non-null  float64            \n",
      " 15  YCOORD                      237956 non-null  float64            \n",
      " 16  EVENTID                     237956 non-null  object             \n",
      " 17  MAJORINJURIES_BICYCLIST     237956 non-null  int64              \n",
      " 18  MINORINJURIES_BICYCLIST     237956 non-null  int64              \n",
      " 19  UNKNOWNINJURIES_BICYCLIST   237956 non-null  int64              \n",
      " 20  FATAL_BICYCLIST             237956 non-null  int64              \n",
      " 21  MAJORINJURIES_DRIVER        237956 non-null  int64              \n",
      " 22  MINORINJURIES_DRIVER        237956 non-null  int64              \n",
      " 23  UNKNOWNINJURIES_DRIVER      237956 non-null  int64              \n",
      " 24  FATAL_DRIVER                237956 non-null  int64              \n",
      " 25  MAJORINJURIES_PEDESTRIAN    237956 non-null  int64              \n",
      " 26  MINORINJURIES_PEDESTRIAN    237956 non-null  int64              \n",
      " 27  UNKNOWNINJURIES_PEDESTRIAN  237956 non-null  int64              \n",
      " 28  FATAL_PEDESTRIAN            237956 non-null  int64              \n",
      " 29  TOTAL_VEHICLES              237956 non-null  int64              \n",
      " 30  TOTAL_BICYCLES              237956 non-null  int64              \n",
      " 31  TOTAL_PEDESTRIANS           237956 non-null  int64              \n",
      " 32  PEDESTRIANSIMPAIRED         237956 non-null  int64              \n",
      " 33  BICYCLISTSIMPAIRED          237956 non-null  int64              \n",
      " 34  DRIVERSIMPAIRED             237956 non-null  int64              \n",
      " 35  TOTAL_TAXIS                 237956 non-null  int64              \n",
      " 36  TOTAL_GOVERNMENT            237956 non-null  int64              \n",
      " 37  SPEEDING_INVOLVED           237956 non-null  int64              \n",
      " 38  NEARESTINTROUTEID           237956 non-null  object             \n",
      " 39  NEARESTINTSTREETNAME        237956 non-null  object             \n",
      " 40  OFFINTERSECTION             237956 non-null  float64            \n",
      " 41  INTAPPROACHDIRECTION        237956 non-null  object             \n",
      " 42  FATALPASSENGER              237956 non-null  int64              \n",
      " 43  MAJORINJURIESPASSENGER      237956 non-null  int64              \n",
      " 44  MINORINJURIESPASSENGER      237956 non-null  int64              \n",
      " 45  UNKNOWNINJURIESPASSENGER    237956 non-null  int64              \n",
      " 46  TOTAL_FATAL                 237956 non-null  int64              \n",
      " 47  TOTAL_MAJORINJURIES         237956 non-null  int64              \n",
      " 48  TOTAL_MINORINJURIES         237956 non-null  int64              \n",
      " 49  TOTAL_UNKNOWNINJURIES       237956 non-null  int64              \n",
      " 50  TOTAL_ACCEIDENTELEMENTS     237956 non-null  int64              \n",
      " 51  TOTAL_INJURIES              237956 non-null  int64              \n",
      " 52  TOTAL_INJURIES_ELEMENTS     237956 non-null  int64              \n",
      " 53  Rate                        237956 non-null  category           \n",
      "dtypes: category(1), datetime64[ns, UTC](2), float64(9), int64(32), object(10)\n",
      "memory usage: 98.3+ MB\n"
     ]
    }
   ],
   "source": [
    "fulldata.info()"
   ]
  },
  {
   "cell_type": "code",
   "execution_count": null,
   "metadata": {},
   "outputs": [],
   "source": []
  },
  {
   "cell_type": "code",
   "execution_count": null,
   "metadata": {},
   "outputs": [],
   "source": []
  },
  {
   "cell_type": "markdown",
   "metadata": {},
   "source": []
  },
  {
   "cell_type": "markdown",
   "metadata": {},
   "source": []
  }
 ],
 "metadata": {
  "interpreter": {
   "hash": "54ecca5b44985fcf55712ffd4a7d12117f4cbfae94c575e266a5d94df5864634"
  },
  "kernelspec": {
   "display_name": "Python 3.8.8 64-bit ('base': conda)",
   "name": "python3"
  },
  "language_info": {
   "codemirror_mode": {
    "name": "ipython",
    "version": 3
   },
   "file_extension": ".py",
   "mimetype": "text/x-python",
   "name": "python",
   "nbconvert_exporter": "python",
   "pygments_lexer": "ipython3",
   "version": "3.8.8"
  },
  "orig_nbformat": 4
 },
 "nbformat": 4,
 "nbformat_minor": 2
}
